{
 "cells": [
  {
   "cell_type": "code",
   "execution_count": 2,
   "id": "ee3b3d40-a2f1-4bec-8ee4-d7b98493cc3e",
   "metadata": {},
   "outputs": [],
   "source": [
    "#Name:URVA SHAHID\n",
    "#Roll Number:FA25-BBD-163"
   ]
  },
  {
   "cell_type": "code",
   "execution_count": 3,
   "id": "3fe9b9dc-7712-4b06-8ae2-abcffa6d61b9",
   "metadata": {},
   "outputs": [],
   "source": [
    "# QUESTION NUMBER 1:\n",
    "# Write a for loop to print all even numbers from 2 to 20."
   ]
  },
  {
   "cell_type": "code",
   "execution_count": 4,
   "id": "4b3838fb-7c17-40d0-84c7-94421c992cb2",
   "metadata": {},
   "outputs": [
    {
     "name": "stdout",
     "output_type": "stream",
     "text": [
      "2\n",
      "4\n",
      "6\n",
      "8\n",
      "10\n",
      "12\n",
      "14\n",
      "16\n",
      "18\n",
      "20\n"
     ]
    }
   ],
   "source": [
    "for num in range(2,21,2):                           #range(start,stop,step)\n",
    "    print(num)"
   ]
  },
  {
   "cell_type": "code",
   "execution_count": 12,
   "id": "cd986a90-22b5-44be-9bfb-782e79f0044d",
   "metadata": {},
   "outputs": [],
   "source": [
    "# QUESTION NUMBER 2:\n",
    "# Create a list of names and use a for loop to print each name in upper case."
   ]
  },
  {
   "cell_type": "code",
   "execution_count": 6,
   "id": "6fa6db78-4822-4432-942d-263924698253",
   "metadata": {},
   "outputs": [
    {
     "name": "stdout",
     "output_type": "stream",
     "text": [
      "ALI\n",
      "SARA\n",
      "USMAN\n",
      "ABDULLAH\n",
      "NAIMA\n"
     ]
    }
   ],
   "source": [
    "names=[\"Ali\",\"Sara\",\"Usman\",\"Abdullah\",\"Naima\"]\n",
    "for name in names:\n",
    "    print(name.upper())"
   ]
  },
  {
   "cell_type": "code",
   "execution_count": 7,
   "id": "92f227e5-3fb0-46be-8aa5-3b23fefb10ec",
   "metadata": {},
   "outputs": [],
   "source": [
    "# QUESTION NUMBER 3:\n",
    "# Use a for loop in range() to print numbers from 10 to 1 in reverse order."
   ]
  },
  {
   "cell_type": "code",
   "execution_count": 13,
   "id": "d7dd299d-a30e-4612-a034-eaeb4976c5de",
   "metadata": {},
   "outputs": [
    {
     "name": "stdout",
     "output_type": "stream",
     "text": [
      "10\n",
      "9\n",
      "8\n",
      "7\n",
      "6\n",
      "5\n",
      "4\n",
      "3\n",
      "2\n",
      "1\n"
     ]
    }
   ],
   "source": [
    "for num in range(10,0,-1):             # -1 means counting backwards\n",
    "    print(num)"
   ]
  },
  {
   "cell_type": "code",
   "execution_count": 14,
   "id": "c4fadadb-7427-4944-b1fc-b86561312f9c",
   "metadata": {},
   "outputs": [],
   "source": [
    "# QUESTION NUMBER 4:\n",
    "# Iterate through a list of integars and print only thr numbers that are divisible by 3."
   ]
  },
  {
   "cell_type": "code",
   "execution_count": 15,
   "id": "9b088b90-e98f-4d30-a0f9-be935144d3b0",
   "metadata": {},
   "outputs": [
    {
     "name": "stdout",
     "output_type": "stream",
     "text": [
      "3\n",
      "6\n",
      "9\n",
      "12\n",
      "15\n",
      "18\n",
      "21\n"
     ]
    }
   ],
   "source": [
    "numbers=[2,3,6,8,9,12,15,18,21] \n",
    "for n in numbers:\n",
    "    if n % 3 ==0:                 #check divisibility\n",
    "        print(n)"
   ]
  },
  {
   "cell_type": "code",
   "execution_count": 16,
   "id": "25272b10-4d21-4130-94f5-ac2afbc0bc8f",
   "metadata": {},
   "outputs": [],
   "source": [
    "# QUESTION NUMBER 5:\n",
    "# Write a loop that prints the squares of numbers from 1 to 10."
   ]
  },
  {
   "cell_type": "code",
   "execution_count": 17,
   "id": "13f3a377-3d0c-4723-a235-c281aad90cf9",
   "metadata": {},
   "outputs": [
    {
     "name": "stdout",
     "output_type": "stream",
     "text": [
      "The square of 1 is 1\n",
      "The square of 2 is 4\n",
      "The square of 3 is 9\n",
      "The square of 4 is 16\n",
      "The square of 5 is 25\n",
      "The square of 6 is 36\n",
      "The square of 7 is 49\n",
      "The square of 8 is 64\n",
      "The square of 9 is 81\n",
      "The square of 10 is 100\n"
     ]
    }
   ],
   "source": [
    "for i in range(1,11):\n",
    "    print(f\"The square of {i} is {i**2}\")"
   ]
  },
  {
   "cell_type": "code",
   "execution_count": 18,
   "id": "0bc0cf74-5267-4fa5-813c-f660796a890e",
   "metadata": {},
   "outputs": [],
   "source": [
    "# QUESTION NUMBER 6:\n",
    "# Given a list of temperatures in Celsius,use a for loop to convert each tp Fahrenheit."
   ]
  },
  {
   "cell_type": "code",
   "execution_count": 19,
   "id": "4f2a3c85-2cca-4806-984b-d1b24c5a35d6",
   "metadata": {},
   "outputs": [
    {
     "name": "stdout",
     "output_type": "stream",
     "text": [
      "Temperatures in Fahrenheit: [32.0, 50.0, 68.0, 86.0, 104.0]\n"
     ]
    }
   ],
   "source": [
    "celsius=[0,10,20,30,40]\n",
    "fahrenheit=[]\n",
    "\n",
    "for temp in celsius:\n",
    "    f=(temp*9/5)+32 \n",
    "    fahrenheit.append(f)\n",
    "\n",
    "print(\"Temperatures in Fahrenheit:\",fahrenheit)\n",
    "    "
   ]
  },
  {
   "cell_type": "code",
   "execution_count": 20,
   "id": "ae98a2cb-6def-4741-8302-1025ab71ab23",
   "metadata": {},
   "outputs": [],
   "source": [
    "# QUESTION NUMBER 7:\n",
    "#  Create a for loop that prints the multiplication table of 5."
   ]
  },
  {
   "cell_type": "code",
   "execution_count": 21,
   "id": "e6f11c55-625e-42b1-bc88-8bb945251457",
   "metadata": {},
   "outputs": [
    {
     "name": "stdout",
     "output_type": "stream",
     "text": [
      "5 x 1=5\n",
      "5 x 2=10\n",
      "5 x 3=15\n",
      "5 x 4=20\n",
      "5 x 5=25\n",
      "5 x 6=30\n",
      "5 x 7=35\n",
      "5 x 8=40\n",
      "5 x 9=45\n",
      "5 x 10=50\n"
     ]
    }
   ],
   "source": [
    "for i in range(1,11):\n",
    "    print(f\"5 x {i}={5*i}\")"
   ]
  },
  {
   "cell_type": "code",
   "execution_count": 22,
   "id": "53ef5ad2-3f3c-495c-b5bf-c72177269402",
   "metadata": {},
   "outputs": [],
   "source": [
    "# QUESTION NUMBER 8:\n",
    "# Write a progra to find the sum of all numbers in a list using a for loop."
   ]
  },
  {
   "cell_type": "code",
   "execution_count": 1,
   "id": "6b274bc0-4130-40f3-bd71-b79852268cc0",
   "metadata": {},
   "outputs": [
    {
     "name": "stdout",
     "output_type": "stream",
     "text": [
      "Sum of numbers: 28\n"
     ]
    }
   ],
   "source": [
    "numbers= [4,7,10,2,5]\n",
    "total =0\n",
    "\n",
    "for n in numbers:\n",
    "    total += n                   #add each number to total\n",
    "print(\"Sum of numbers:\",total)"
   ]
  },
  {
   "cell_type": "code",
   "execution_count": 26,
   "id": "1843845d-8796-4a13-801e-6d76ad8231b4",
   "metadata": {},
   "outputs": [],
   "source": [
    "# QUESTION NUMBER 9:\n",
    "# Use a for loop to iterate through a string and print each character separately."
   ]
  },
  {
   "cell_type": "code",
   "execution_count": 27,
   "id": "29e73d18-e655-4fe7-b77d-15a3e3898129",
   "metadata": {},
   "outputs": [
    {
     "name": "stdout",
     "output_type": "stream",
     "text": [
      "P\n",
      "y\n",
      "t\n",
      "h\n",
      "o\n",
      "n\n"
     ]
    }
   ],
   "source": [
    "text=\"Python\"\n",
    "\n",
    "for char in text:\n",
    "    print(char)"
   ]
  },
  {
   "cell_type": "code",
   "execution_count": 28,
   "id": "546977b6-d830-4fb4-b1a2-54ec47ac4901",
   "metadata": {},
   "outputs": [],
   "source": [
    "# QUESTION NUMBER 10:\n",
    "# Create a list of words nd use a for loop to print only the words with more than 5 letters."
   ]
  },
  {
   "cell_type": "code",
   "execution_count": 29,
   "id": "f0213ccb-feac-45e6-815f-1273bf38175b",
   "metadata": {},
   "outputs": [
    {
     "name": "stdout",
     "output_type": "stream",
     "text": [
      "banana\n",
      "cherry\n",
      "watermelon\n"
     ]
    }
   ],
   "source": [
    "words=[\"apple\",\"banana\",\"cherry\",\"grape\",\"watermelon\",\"kiwi\"]\n",
    "for word in words:\n",
    "    if len(word)>5:\n",
    "        print(word)"
   ]
  }
 ],
 "metadata": {
  "kernelspec": {
   "display_name": "Python 3 (ipykernel)",
   "language": "python",
   "name": "python3"
  },
  "language_info": {
   "codemirror_mode": {
    "name": "ipython",
    "version": 3
   },
   "file_extension": ".py",
   "mimetype": "text/x-python",
   "name": "python",
   "nbconvert_exporter": "python",
   "pygments_lexer": "ipython3",
   "version": "3.13.5"
  }
 },
 "nbformat": 4,
 "nbformat_minor": 5
}
